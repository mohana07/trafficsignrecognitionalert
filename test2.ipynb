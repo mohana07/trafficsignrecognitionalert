{
 "cells": [
  {
   "cell_type": "code",
   "execution_count": 1,
   "metadata": {},
   "outputs": [
    {
     "name": "stderr",
     "output_type": "stream",
     "text": [
      "WARNING:absl:At this time, the v2.11+ optimizer `tf.keras.optimizers.Adam` runs slowly on M1/M2 Macs, please use the legacy Keras optimizer instead, located at `tf.keras.optimizers.legacy.Adam`.\n"
     ]
    }
   ],
   "source": [
    "import tensorflow as tf\n",
    "from tensorflow.keras.models import load_model\n",
    "import cv2\n",
    "import numpy as np\n",
    "\n",
    "# ... (your constants and camera setup)\n",
    "\n",
    "# LOAD THE TRAINED MODEL IN KERAS FORMAT\n",
    "model_path = \"/Users/harshithathimmapuram/Desktop/mini project/my_trained_model.h5\"  # Provide the path to your Keras model\n",
    "model = load_model(model_path)\n",
    "\n",
    "# If you are using the Adam optimizer, replace it with the legacy optimizer\n",
    "if isinstance(model.optimizer, tf.keras.optimizers.Adam):\n",
    "    model.compile(optimizer=tf.keras.optimizers.legacy.Adam(), loss='sparse_categorical_crossentropy', metrics=['accuracy'])\n",
    "\n",
    "def grayscale(img):\n",
    "    img = cv2.cvtColor(img, cv2.COLOR_BGR2GRAY)\n",
    "    return img\n",
    "\n",
    "def equalize(img):\n",
    "    img = cv2.equalizeHist(img)\n",
    "    return img\n",
    "\n",
    "def preprocessing(img):\n",
    "    img = grayscale(img)\n",
    "    img = equalize(img)\n",
    "    img = img / 255\n",
    "    return img\n",
    "\n",
    "def get_class_name(classNo):\n",
    "    # ... (your class name mapping logic)\n",
    "\n",
    "# Initialize the camera\n",
    "    cap = cv2.VideoCapture(0)\n",
    "    cap.set(3, frameWidth)\n",
    "    cap.set(4, frameHeight)\n",
    "    cap.set(10, brightness)\n",
    "\n",
    "    while True:\n",
    "        # READ IMAGE\n",
    "        success, imgOriginal = cap.read()\n",
    "\n",
    "        if not success:\n",
    "            print(\"Failed to read frame from the camera.\")\n",
    "            break\n",
    "\n",
    "        # PROCESS IMAGE\n",
    "        img = np.asarray(imgOriginal)\n",
    "        img = cv2.resize(img, (32, 32))\n",
    "        img = preprocessing(img)\n",
    "        cv2.imshow(\"Processed Image\", img)\n",
    "\n",
    "        img = img.reshape(1, 32, 32, 1)\n",
    "        cv2.putText(imgOriginal, \"CLASS: \", (20, 35), font, 0.75, (0, 0, 255), 2, cv2.LINE_AA)\n",
    "        cv2.putText(imgOriginal, \"PROBABILITY: \", (20, 75), font, 0.75, (0, 0, 255), 2, cv2.LINE_AA)\n",
    "\n",
    "        # PREDICT IMAGE\n",
    "        predictions = model.predict(img)\n",
    "        classIndex = np.argmax(predictions)\n",
    "        probabilityValue = np.amax(predictions)\n",
    "\n",
    "        print(f\"Predictions: {predictions}\")\n",
    "        print(f\"Class Index: {classIndex}\")\n",
    "        print(f\"Probability Value: {probabilityValue}\")\n",
    "\n",
    "        if probabilityValue > threshold:\n",
    "            cv2.putText(imgOriginal, str(classIndex) + \" \" + str(get_class_name(classIndex)), (120, 35), font, 0.75, (0, 0, 255), 2, cv2.LINE_AA)\n",
    "            cv2.putText(imgOriginal, str(round(probabilityValue * 100, 2)) + \"%\", (180, 75), font, 0.75, (0, 0, 255), 2, cv2.LINE_AA)\n",
    "            cv2.imshow(\"Result\", imgOriginal)\n",
    "\n",
    "        if cv2.waitKey(1) & 0xFF == ord('q'):\n",
    "            break\n",
    "\n",
    "    # Release the camera\n",
    "    cap.release()\n",
    "    cv2.destroyAllWindows()\n"
   ]
  },
  {
   "cell_type": "code",
   "execution_count": null,
   "metadata": {},
   "outputs": [],
   "source": []
  }
 ],
 "metadata": {
  "kernelspec": {
   "display_name": "base",
   "language": "python",
   "name": "python3"
  },
  "language_info": {
   "codemirror_mode": {
    "name": "ipython",
    "version": 3
   },
   "file_extension": ".py",
   "mimetype": "text/x-python",
   "name": "python",
   "nbconvert_exporter": "python",
   "pygments_lexer": "ipython3",
   "version": "3.11.4"
  }
 },
 "nbformat": 4,
 "nbformat_minor": 2
}
